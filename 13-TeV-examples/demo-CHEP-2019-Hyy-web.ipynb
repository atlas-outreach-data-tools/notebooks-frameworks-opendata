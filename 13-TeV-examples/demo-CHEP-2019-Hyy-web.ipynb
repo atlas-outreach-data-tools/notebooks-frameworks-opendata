{
 "cells": [
  {
   "cell_type": "markdown",
   "metadata": {},
   "source": [
    "<CENTER><img src=\"../images/ATLASOD.gif\" style=\"width:50%\"></CENTER>"
   ]
  },
  {
   "cell_type": "markdown",
   "metadata": {},
   "source": [
    "<CENTER><h1>Get running the analysis of Hyy channel using the 13 TeV dataset in Python</h1></CENTER>"
   ]
  },
  {
   "cell_type": "markdown",
   "metadata": {},
   "source": [
    "**Introduction**\n",
    "Let's take a current ATLAS Open Data sample and create histograms:\n",
    "\n",
    "Import some Python packages"
   ]
  },
  {
   "cell_type": "code",
   "execution_count": 1,
   "metadata": {},
   "outputs": [],
   "source": [
    "import os\n",
    "import datetime"
   ]
  },
  {
   "cell_type": "code",
   "execution_count": 2,
   "metadata": {},
   "outputs": [
    {
     "name": "stdout",
     "output_type": "stream",
     "text": [
      "Mo Feb 24 21:24:19 CET 2020\n",
      "\n"
     ]
    }
   ],
   "source": [
    "starttime = datetime.datetime.now()\n",
    "\n",
    "myCmd = os.popen('date').read()\n",
    "print(myCmd)"
   ]
  },
  {
   "cell_type": "markdown",
   "metadata": {},
   "source": [
    "## Get the code the 13TeV analysis\n",
    "Create a folder where the git clone will be stored"
   ]
  },
  {
   "cell_type": "code",
   "execution_count": 3,
   "metadata": {},
   "outputs": [],
   "source": [
    "folder_demo = 'atlas-demo-Hyy'"
   ]
  },
  {
   "cell_type": "code",
   "execution_count": 4,
   "metadata": {},
   "outputs": [
    {
     "data": {
      "text/plain": [
       "0"
      ]
     },
     "execution_count": 4,
     "metadata": {},
     "output_type": "execute_result"
    }
   ],
   "source": [
    "command1 = 'mkdir '+folder_demo\n",
    "os.system(command1)"
   ]
  },
  {
   "cell_type": "markdown",
   "metadata": {},
   "source": [
    "Show the contents in the current folder, and checck your new folder is there"
   ]
  },
  {
   "cell_type": "code",
   "execution_count": 5,
   "metadata": {},
   "outputs": [
    {
     "name": "stdout",
     "output_type": "stream",
     "text": [
      "total 208K\n",
      "-rw-r--r-- 1 student student  14K Feb 24 17:02 demo-CHEP-2019-HZZ-web.ipynb\n",
      "-rw-r--r-- 1 student student  13K Feb 24 17:02 demo-CHEP-2019-HZZ-cern.ipynb\n",
      "-rw-r--r-- 1 student student  12K Feb 24 17:02 demo-CHEP-2019-Hyy-cern.ipynb\n",
      "-rw-r--r-- 1 student student  17K Feb 24 17:03 get-running-8-tev-code-python.ipynb\n",
      "-rw-r--r-- 1 student student 8.8K Feb 24 17:03 get-running-8-tev-code-cpp.ipynb\n",
      "-rw-r--r-- 1 student student  13K Feb 24 17:03 get-running-13-tev-python-code.ipynb\n",
      "-rw-r--r-- 1 student student  38K Feb 24 17:03 get-running-13-tev-cpp-code.ipynb\n",
      "-rw-r--r-- 1 student student  41K Feb 24 17:03 bash-demo.ipynb\n",
      "-rw-r--r-- 1 student student  115 Feb 24 17:15 README.md\n",
      "-rw-r--r-- 1 student student  21K Feb 24 21:24 demo-CHEP-2019-Hyy-web.ipynb\n",
      "drwxr-xr-x 2 student student 4.0K Feb 24 21:24 atlas-demo-Hyy\n",
      "\n"
     ]
    }
   ],
   "source": [
    "myCmd = os.popen('ls -lhrt').read()\n",
    "print(myCmd)"
   ]
  },
  {
   "cell_type": "markdown",
   "metadata": {},
   "source": [
    "Print the current path/location"
   ]
  },
  {
   "cell_type": "code",
   "execution_count": 6,
   "metadata": {},
   "outputs": [
    {
     "name": "stdout",
     "output_type": "stream",
     "text": [
      "/home/student/GIT-REPOS/notebooks-frameworks-opendata\n",
      "\n"
     ]
    }
   ],
   "source": [
    "myCmd = os.popen('pwd').read()\n",
    "print(myCmd)"
   ]
  },
  {
   "cell_type": "markdown",
   "metadata": {},
   "source": [
    "Get into the folder which we just created"
   ]
  },
  {
   "cell_type": "code",
   "execution_count": 7,
   "metadata": {},
   "outputs": [],
   "source": [
    "os.chdir(folder_demo+\"/\")"
   ]
  },
  {
   "cell_type": "markdown",
   "metadata": {},
   "source": [
    "Print the current path and check that you are really there"
   ]
  },
  {
   "cell_type": "code",
   "execution_count": 8,
   "metadata": {},
   "outputs": [
    {
     "name": "stdout",
     "output_type": "stream",
     "text": [
      "/home/student/GIT-REPOS/notebooks-frameworks-opendata/atlas-demo-Hyy\n",
      "\n"
     ]
    }
   ],
   "source": [
    "myCmd = os.popen('pwd').read()\n",
    "print(myCmd)"
   ]
  },
  {
   "cell_type": "markdown",
   "metadata": {},
   "source": [
    "Clone the analysis code **(do this only once!)**"
   ]
  },
  {
   "cell_type": "code",
   "execution_count": 9,
   "metadata": {},
   "outputs": [
    {
     "name": "stdout",
     "output_type": "stream",
     "text": [
      "\n"
     ]
    }
   ],
   "source": [
    "myCmd = os.popen('git clone https://github.com/atlas-outreach-data-tools/atlas-outreach-cpp-framework-13tev.git').read()\n",
    "print(myCmd)"
   ]
  },
  {
   "cell_type": "markdown",
   "metadata": {},
   "source": [
    "Get into the folder which contains the analysis code"
   ]
  },
  {
   "cell_type": "code",
   "execution_count": 10,
   "metadata": {},
   "outputs": [],
   "source": [
    "os.chdir(\"atlas-outreach-cpp-framework-13tev/\")"
   ]
  },
  {
   "cell_type": "markdown",
   "metadata": {},
   "source": [
    "Print the current path and check that you are really there"
   ]
  },
  {
   "cell_type": "code",
   "execution_count": 11,
   "metadata": {},
   "outputs": [
    {
     "name": "stdout",
     "output_type": "stream",
     "text": [
      "/home/student/GIT-REPOS/notebooks-frameworks-opendata/atlas-demo-Hyy/atlas-outreach-cpp-framework-13tev\n",
      "\n"
     ]
    }
   ],
   "source": [
    "myCmd = os.popen('pwd').read()\n",
    "print(myCmd)"
   ]
  },
  {
   "cell_type": "markdown",
   "metadata": {},
   "source": [
    "let's see the time"
   ]
  },
  {
   "cell_type": "code",
   "execution_count": 12,
   "metadata": {},
   "outputs": [
    {
     "name": "stdout",
     "output_type": "stream",
     "text": [
      "Mo Feb 24 21:24:21 CET 2020\n",
      "\n"
     ]
    }
   ],
   "source": [
    "myCmd = os.popen('date').read()\n",
    "print(myCmd)"
   ]
  },
  {
   "cell_type": "code",
   "execution_count": 13,
   "metadata": {},
   "outputs": [
    {
     "name": "stdout",
     "output_type": "stream",
     "text": [
      "total 28K\n",
      "drwxr-xr-x 14 student student 4.0K Feb 24 21:24 Analysis\n",
      "-rwxr-xr-x  1 student student  370 Feb 24 21:24 welcome_web.sh\n",
      "-rwxr-xr-x  1 student student 1.7K Feb 24 21:24 welcome.sh\n",
      "-rw-r--r--  1 student student  11K Feb 24 21:24 README.md\n",
      "drwxr-xr-x  4 student student 4.0K Feb 24 21:24 Plotting\n",
      "\n"
     ]
    }
   ],
   "source": [
    "myCmd = os.popen('ls -lhrt').read()\n",
    "print(myCmd)"
   ]
  },
  {
   "cell_type": "markdown",
   "metadata": {},
   "source": [
    "let's create the output folders **(do this only the first time with option 1)**"
   ]
  },
  {
   "cell_type": "code",
   "execution_count": 14,
   "metadata": {},
   "outputs": [
    {
     "data": {
      "text/plain": [
       "0"
      ]
     },
     "execution_count": 14,
     "metadata": {},
     "output_type": "execute_result"
    }
   ],
   "source": [
    "command3 = \"echo \\\"1\\\" | ./welcome.sh\"\n",
    "os.system(command3)"
   ]
  },
  {
   "cell_type": "code",
   "execution_count": 15,
   "metadata": {},
   "outputs": [
    {
     "name": "stdout",
     "output_type": "stream",
     "text": [
      "Analysis/WBosonAnalysis:\n",
      "total 60K\n",
      "-rw-r--r-- 1 student student 5.4K Feb 24 21:24 WBosonAnalysisHistograms.h\n",
      "-rw-r--r-- 1 student student  11K Feb 24 21:24 WBosonAnalysis.h\n",
      "-rw-r--r-- 1 student student 7.6K Feb 24 21:24 WBosonAnalysis.C\n",
      "-rwxr-xr-x 1 student student  937 Feb 24 21:24 run.sh\n",
      "-rw-r--r-- 1 student student  21K Feb 24 21:24 main_WBosonAnalysis.C\n",
      "drwxr-xr-x 2 student student 4.0K Feb 24 21:24 Output_WBosonAnalysis\n",
      "\n",
      "Analysis/ZBosonAnalysis:\n",
      "total 60K\n",
      "-rw-r--r-- 1 student student 8.7K Feb 24 21:24 ZBosonAnalysisHistograms.h\n",
      "-rw-r--r-- 1 student student  17K Feb 24 21:24 ZBosonAnalysis.h\n",
      "-rw-r--r-- 1 student student 7.8K Feb 24 21:24 ZBosonAnalysis.C\n",
      "-rwxr-xr-x 1 student student  931 Feb 24 21:24 run.sh\n",
      "-rw-r--r-- 1 student student 8.4K Feb 24 21:24 main_ZBosonAnalysis.C\n",
      "drwxr-xr-x 2 student student 4.0K Feb 24 21:24 Output_ZBosonAnalysis\n",
      "\n",
      "Analysis/WZDiBosonAnalysis:\n",
      "total 52K\n",
      "-rw-r--r-- 1 student student 4.6K Feb 24 21:24 WZDiBosonAnalysisHistograms.h\n",
      "-rw-r--r-- 1 student student  16K Feb 24 21:24 WZDiBosonAnalysis.h\n",
      "-rw-r--r-- 1 student student  12K Feb 24 21:24 WZDiBosonAnalysis.C\n",
      "-rwxr-xr-x 1 student student  621 Feb 24 21:24 run.sh\n",
      "-rw-r--r-- 1 student student 7.7K Feb 24 21:24 main_WZDiBosonAnalysis.C\n",
      "drwxr-xr-x 2 student student 4.0K Feb 24 21:24 Output_WZDiBosonAnalysis\n",
      "\n",
      "Analysis/TTbarAnalysis:\n",
      "total 56K\n",
      "-rw-r--r-- 1 student student 7.7K Feb 24 21:24 TTbarAnalysisHistograms.h\n",
      "-rw-r--r-- 1 student student  11K Feb 24 21:24 TTbarAnalysis.h\n",
      "-rw-r--r-- 1 student student  13K Feb 24 21:24 TTbarAnalysis.C\n",
      "-rwxr-xr-x 1 student student  928 Feb 24 21:24 run.sh\n",
      "-rw-r--r-- 1 student student 8.4K Feb 24 21:24 main_TTbarAnalysis.C\n",
      "drwxr-xr-x 2 student student 4.0K Feb 24 21:24 Output_TTbarAnalysis\n",
      "\n",
      "Analysis/SingleTopAnalysis:\n",
      "total 64K\n",
      "-rw-r--r-- 1 student student 6.5K Feb 24 21:24 SingleTopAnalysisHistograms.h\n",
      "-rw-r--r-- 1 student student  11K Feb 24 21:24 SingleTopAnalysis.h\n",
      "-rw-r--r-- 1 student student  11K Feb 24 21:24 SingleTopAnalysis.C\n",
      "-rwxr-xr-x 1 student student  940 Feb 24 21:24 run.sh\n",
      "-rw-r--r-- 1 student student  21K Feb 24 21:24 main_SingleTopAnalysis.C\n",
      "drwxr-xr-x 2 student student 4.0K Feb 24 21:24 Output_SingleTopAnalysis\n",
      "\n",
      "Analysis/ZZDiBosonAnalysis:\n",
      "total 56K\n",
      "-rw-r--r-- 1 student student 5.0K Feb 24 21:24 ZZDiBosonAnalysisHistograms.h\n",
      "-rw-r--r-- 1 student student  16K Feb 24 21:24 ZZDiBosonAnalysis.h\n",
      "-rw-r--r-- 1 student student  13K Feb 24 21:24 ZZDiBosonAnalysis.C\n",
      "-rwxr-xr-x 1 student student  621 Feb 24 21:24 run.sh\n",
      "-rw-r--r-- 1 student student 7.9K Feb 24 21:24 main_ZZDiBosonAnalysis.C\n",
      "drwxr-xr-x 2 student student 4.0K Feb 24 21:24 Output_ZZDiBosonAnalysis\n",
      "\n",
      "Analysis/HWWAnalysis:\n",
      "total 60K\n",
      "-rwxr-xr-x 1 student student  928 Feb 24 21:24 run.sh\n",
      "-rw-r--r-- 1 student student 8.8K Feb 24 21:24 main_HWWAnalysis.C\n",
      "-rw-r--r-- 1 student student  12K Feb 24 21:24 HWWAnalysisHistograms.h\n",
      "-rw-r--r-- 1 student student  15K Feb 24 21:24 HWWAnalysis.h\n",
      "-rw-r--r-- 1 student student 9.8K Feb 24 21:24 HWWAnalysis.C\n",
      "drwxr-xr-x 2 student student 4.0K Feb 24 21:24 Output_HWWAnalysis\n",
      "\n",
      "Analysis/ZTauTauAnalysis:\n",
      "total 84K\n",
      "-rw-r--r-- 1 student student 8.0K Feb 24 21:24 ZTauTauAnalysisHistograms.h\n",
      "-rw-r--r-- 1 student student  17K Feb 24 21:24 ZTauTauAnalysis.h\n",
      "-rw-r--r-- 1 student student  11K Feb 24 21:24 ZTauTauAnalysis.C\n",
      "-rwxr-xr-x 1 student student  678 Feb 24 21:24 run.sh\n",
      "-rw-r--r-- 1 student student  33K Feb 24 21:24 main_ZTauTauAnalysis.C\n",
      "drwxr-xr-x 2 student student 4.0K Feb 24 21:24 Output_ZTauTauAnalysis\n",
      "\n",
      "Analysis/HZZAnalysis:\n",
      "total 56K\n",
      "-rw-r--r-- 1 student student  10K Feb 24 21:24 HZZAnalysis.h\n",
      "-rw-r--r-- 1 student student  13K Feb 24 21:24 HZZAnalysis.C\n",
      "-rwxr-xr-x 1 student student  615 Feb 24 21:24 run.sh\n",
      "-rw-r--r-- 1 student student 8.7K Feb 24 21:24 main_HZZAnalysis.C\n",
      "-rw-r--r-- 1 student student 5.3K Feb 24 21:24 HZZAnalysisHistograms.h\n",
      "drwxr-xr-x 2 student student 4.0K Feb 24 21:24 Output_HZZAnalysis\n",
      "\n",
      "Analysis/SUSYAnalysis:\n",
      "total 80K\n",
      "-rw-r--r-- 1 student student 6.3K Feb 24 21:24 SUSYAnalysisHistograms.h\n",
      "-rw-r--r-- 1 student student  12K Feb 24 21:24 SUSYAnalysis.h\n",
      "-rw-r--r-- 1 student student  10K Feb 24 21:24 SUSYAnalysis.C\n",
      "-rwxr-xr-x 1 student student  950 Feb 24 21:24 run.sh\n",
      "-rw-r--r-- 1 student student  33K Feb 24 21:24 main_SUSYAnalysis.C\n",
      "drwxr-xr-x 2 student student 4.0K Feb 24 21:24 CalcGenericMT2\n",
      "drwxr-xr-x 2 student student 4.0K Feb 24 21:24 Output_SUSYAnalysis\n",
      "\n",
      "Analysis/HyyAnalysis:\n",
      "total 52K\n",
      "-rwxr-xr-x 1 student student  492 Feb 24 21:24 run_web.sh\n",
      "-rwxr-xr-x 1 student student  492 Feb 24 21:24 run_web2.sh\n",
      "-rwxr-xr-x 1 student student  665 Feb 24 21:24 run.sh\n",
      "-rw-r--r-- 1 student student 2.7K Feb 24 21:24 main_HyyAnalysis_web.C\n",
      "-rw-r--r-- 1 student student 2.7K Feb 24 21:24 main_HyyAnalysis.C\n",
      "-rw-r--r-- 1 student student 1.3K Feb 24 21:24 HyyAnalysisHistograms.h\n",
      "-rw-r--r-- 1 student student  15K Feb 24 21:24 HyyAnalysis.h\n",
      "-rw-r--r-- 1 student student 6.4K Feb 24 21:24 HyyAnalysis.C\n",
      "drwxr-xr-x 2 student student 4.0K Feb 24 21:24 Output_HyyAnalysis\n",
      "\n",
      "Analysis/ZPrimeBoostedAnalysis:\n",
      "total 80K\n",
      "-rw-r--r-- 1 student student  11K Feb 24 21:24 ZPrimeBoostedAnalysisHistograms.h\n",
      "-rw-r--r-- 1 student student  13K Feb 24 21:24 ZPrimeBoostedAnalysis.h\n",
      "-rw-r--r-- 1 student student  17K Feb 24 21:24 ZPrimeBoostedAnalysis.C\n",
      "-rwxr-xr-x 1 student student  625 Feb 24 21:24 run.sh\n",
      "-rw-r--r-- 1 student student  21K Feb 24 21:24 main_ZPrimeBoostedAnalysis.C\n",
      "drwxr-xr-x 2 student student 4.0K Feb 24 21:24 Output_ZPrimeBoostedAnalysis\n",
      "\n"
     ]
    }
   ],
   "source": [
    "myCmd = os.popen('ls -lhrt Analysis/*Analysis').read()\n",
    "print(myCmd)"
   ]
  },
  {
   "cell_type": "markdown",
   "metadata": {},
   "source": [
    "### Let's run an Analysis now\n",
    "### Select one analysis\n",
    "#### The options are:"
   ]
  },
  {
   "cell_type": "code",
   "execution_count": 16,
   "metadata": {},
   "outputs": [],
   "source": [
    "#analysis=\"HWWAnalysis\"\n",
    "analysis=\"HyyAnalysis\"\n",
    "#analysis=\"HZZAnalysis\"\n",
    "#analysis=\"SingleTopAnalysis\"\n",
    "#analysis=\"SUSYAnalysis\"\n",
    "#analysis=\"TTbarAnalysis\"\n",
    "#analysis=\"WBosonAnalysis\"\n",
    "#analysis=\"WZDiBosonAnalysis\"\n",
    "#analysis=\"ZBosonAnalysis\"\n",
    "#analysis=\"ZPrimeBoostedAnalysis\"\n",
    "#analysis=\"ZTauTauAnalysis\"\n",
    "#analysis=\"ZZDiBosonAnalysis\""
   ]
  },
  {
   "cell_type": "code",
   "execution_count": 17,
   "metadata": {},
   "outputs": [],
   "source": [
    "os.chdir(\"Analysis/\"+analysis)"
   ]
  },
  {
   "cell_type": "code",
   "execution_count": 18,
   "metadata": {},
   "outputs": [
    {
     "name": "stdout",
     "output_type": "stream",
     "text": [
      "/home/student/GIT-REPOS/notebooks-frameworks-opendata/atlas-demo-Hyy/atlas-outreach-cpp-framework-13tev/Analysis/HyyAnalysis\n",
      "\n"
     ]
    }
   ],
   "source": [
    "myCmd = os.popen('pwd').read()\n",
    "print(myCmd)"
   ]
  },
  {
   "cell_type": "code",
   "execution_count": 19,
   "metadata": {},
   "outputs": [
    {
     "name": "stdout",
     "output_type": "stream",
     "text": [
      "total 52K\n",
      "-rwxr-xr-x 1 student student  492 Feb 24 21:24 run_web.sh\n",
      "-rwxr-xr-x 1 student student  492 Feb 24 21:24 run_web2.sh\n",
      "-rwxr-xr-x 1 student student  665 Feb 24 21:24 run.sh\n",
      "-rw-r--r-- 1 student student 2.7K Feb 24 21:24 main_HyyAnalysis_web.C\n",
      "-rw-r--r-- 1 student student 2.7K Feb 24 21:24 main_HyyAnalysis.C\n",
      "-rw-r--r-- 1 student student 1.3K Feb 24 21:24 HyyAnalysisHistograms.h\n",
      "-rw-r--r-- 1 student student  15K Feb 24 21:24 HyyAnalysis.h\n",
      "-rw-r--r-- 1 student student 6.4K Feb 24 21:24 HyyAnalysis.C\n",
      "drwxr-xr-x 2 student student 4.0K Feb 24 21:24 Output_HyyAnalysis\n",
      "\n"
     ]
    }
   ],
   "source": [
    "myCmd = os.popen('ls -lhrt').read()\n",
    "print(myCmd)"
   ]
  },
  {
   "cell_type": "markdown",
   "metadata": {},
   "source": [
    "### Run the C++ code now"
   ]
  },
  {
   "cell_type": "code",
   "execution_count": 20,
   "metadata": {},
   "outputs": [
    {
     "data": {
      "text/plain": [
       "0"
      ]
     },
     "execution_count": 20,
     "metadata": {},
     "output_type": "execute_result"
    }
   ],
   "source": [
    "command4 = \"echo \\\"0\\n0\\\" | ./run.sh >log\"\n",
    "os.system(command4)"
   ]
  },
  {
   "cell_type": "markdown",
   "metadata": {},
   "source": [
    "#### Now the code is done (I hope you see a 0 as output :)"
   ]
  },
  {
   "cell_type": "code",
   "execution_count": 21,
   "metadata": {},
   "outputs": [],
   "source": [
    "os.chdir(\"../../Plotting/\")"
   ]
  },
  {
   "cell_type": "code",
   "execution_count": 22,
   "metadata": {},
   "outputs": [
    {
     "name": "stdout",
     "output_type": "stream",
     "text": [
      "/home/student/GIT-REPOS/notebooks-frameworks-opendata/atlas-demo-Hyy/atlas-outreach-cpp-framework-13tev/Plotting\n",
      "\n"
     ]
    }
   ],
   "source": [
    "myCmd = os.popen('pwd').read()\n",
    "print(myCmd)"
   ]
  },
  {
   "cell_type": "markdown",
   "metadata": {},
   "source": [
    "### Let's run the Plotting code\n",
    "### Select the right analysis\n",
    "#### The options are:\n",
    "0 = WBosonAnalysis\n",
    "\n",
    "1 = ZBosonAnalysis\n",
    "\n",
    "2 = TTbarAnalysis\n",
    "\n",
    "3 = SingleTopAnalysis\n",
    "\n",
    "4 = WZDiBosonAnalysis\n",
    "\n",
    "5 = ZZDiBosonAnalysis\n",
    "\n",
    "6 = HWWAnalysis\n",
    "\n",
    "7 = HZZAnalysis\n",
    "\n",
    "8 = ZTauTauAnalysis\n",
    "\n",
    "9 = HyyAnalysis\n",
    "\n",
    "10 = SUSYAnalysis\n",
    "\n",
    "11 = ZPrimeBoostedAnalysis"
   ]
  },
  {
   "cell_type": "code",
   "execution_count": 23,
   "metadata": {},
   "outputs": [
    {
     "data": {
      "text/plain": [
       "0"
      ]
     },
     "execution_count": 23,
     "metadata": {},
     "output_type": "execute_result"
    }
   ],
   "source": [
    "command5 = \"echo \\\"9\\n0\\\" | ./plotme.sh\"\n",
    "os.system(command5)"
   ]
  },
  {
   "cell_type": "code",
   "execution_count": 24,
   "metadata": {},
   "outputs": [
    {
     "name": "stdout",
     "output_type": "stream",
     "text": [
      "-rw-r--r-- 1 student student 27K Feb 24 21:30 histograms/hist_mYY_bin1.png\n",
      "-rw-r--r-- 1 student student 31K Feb 24 21:30 histograms/hist_mYY_cat_bin1.png\n",
      "\n"
     ]
    }
   ],
   "source": [
    "myCmd = os.popen('ls -lhrt histograms/*png').read()\n",
    "print(myCmd)"
   ]
  },
  {
   "cell_type": "markdown",
   "metadata": {},
   "source": [
    "<CENTER>\n",
    "    <h2> The two photons invariant mass </h2>\n",
    "    <img src=\"atlas-demo-Hyy/atlas-outreach-cpp-framework-13tev/Plotting/histograms/hist_mYY_bin1.png\"  alt=\"mass\" width=\"700\" height=\"400\">\n",
    "</CENTER>"
   ]
  },
  {
   "cell_type": "code",
   "execution_count": 25,
   "metadata": {},
   "outputs": [
    {
     "name": "stdout",
     "output_type": "stream",
     "text": [
      "Mo Feb 24 21:30:02 CET 2020\n",
      "\n",
      "Analysis finished in  5 min  43 s\n"
     ]
    }
   ],
   "source": [
    "myCmd = os.popen('date').read()\n",
    "print(myCmd)\n",
    "endtime = datetime.datetime.now()\n",
    "print(\"Analysis finished in % 2d min % 2d s\" %(((endtime - starttime).seconds)/60,((endtime - starttime).seconds)%60))"
   ]
  },
  {
   "cell_type": "markdown",
   "metadata": {},
   "source": [
    "### Done!"
   ]
  }
 ],
 "metadata": {
  "kernelspec": {
   "display_name": "Python 3",
   "language": "python",
   "name": "python3"
  },
  "language_info": {
   "codemirror_mode": {
    "name": "ipython",
    "version": 3
   },
   "file_extension": ".py",
   "mimetype": "text/x-python",
   "name": "python",
   "nbconvert_exporter": "python",
   "pygments_lexer": "ipython3",
   "version": "3.6.9"
  }
 },
 "nbformat": 4,
 "nbformat_minor": 1
}
