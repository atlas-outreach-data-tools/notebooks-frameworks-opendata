{
 "cells": [
  {
   "cell_type": "markdown",
   "metadata": {},
   "source": [
    "<CENTER><img src=\"../images/ATLASOD.gif\" style=\"width:50%\"></CENTER>"
   ]
  },
  {
   "cell_type": "markdown",
   "metadata": {},
   "source": [
    "<CENTER><h1>Get running the analysis of HZZ channel using the 13 TeV dataset in BASH</h1></CENTER>"
   ]
  },
  {
   "cell_type": "code",
   "execution_count": 1,
   "metadata": {},
   "outputs": [
    {
     "name": "stdout",
     "output_type": "stream",
     "text": [
      "Di Feb 25 23:56:34 CET 2020\n",
      "/home/student/GIT-REPOS/notebooks-frameworks-opendata/13-TeV-examples\n"
     ]
    }
   ],
   "source": [
    "date\n",
    "pwd"
   ]
  },
  {
   "cell_type": "code",
   "execution_count": 2,
   "metadata": {},
   "outputs": [
    {
     "name": "stdout",
     "output_type": "stream",
     "text": [
      "/home/student/GIT-REPOS/notebooks-frameworks-opendata/13-TeV-examples/demo\n"
     ]
    }
   ],
   "source": [
    "mkdir demo\n",
    "cd demo\n",
    "pwd"
   ]
  },
  {
   "cell_type": "code",
   "execution_count": 4,
   "metadata": {},
   "outputs": [
    {
     "name": "stdout",
     "output_type": "stream",
     "text": [
      "Cloning into 'atlas-outreach-cpp-framework-13tev'...\n",
      "remote: Enumerating objects: 1076, done.        \n",
      "remote: Counting objects: 100% (1076/1076), done.        \n",
      "remote: Compressing objects: 100% (387/387), done.        \n",
      "remote: Total 1076 (delta 753), reused 999 (delta 684), pack-reused 0        \n",
      "Receiving objects: 100% (1076/1076), 518.61 KiB | 1.50 MiB/s, done.\n",
      "Resolving deltas: 100% (753/753), done.\n"
     ]
    }
   ],
   "source": [
    "git clone https://github.com/atlas-outreach-data-tools/atlas-outreach-cpp-framework-13tev.git"
   ]
  },
  {
   "cell_type": "code",
   "execution_count": 5,
   "metadata": {},
   "outputs": [
    {
     "name": "stdout",
     "output_type": "stream",
     "text": [
      "/home/student/GIT-REPOS/notebooks-frameworks-opendata/13-TeV-examples/demo/atlas-outreach-cpp-framework-13tev\n"
     ]
    }
   ],
   "source": [
    "cd atlas-outreach-cpp-framework-13tev/\n",
    "pwd"
   ]
  },
  {
   "cell_type": "code",
   "execution_count": 6,
   "metadata": {},
   "outputs": [
    {
     "name": "stdout",
     "output_type": "stream",
     "text": [
      "On branch master\n",
      "Your branch is up to date with 'origin/master'.\n",
      "\n",
      "nothing to commit, working tree clean\n"
     ]
    }
   ],
   "source": [
    "git status"
   ]
  },
  {
   "cell_type": "code",
   "execution_count": 7,
   "metadata": {},
   "outputs": [
    {
     "name": "stdout",
     "output_type": "stream",
     "text": [
      "Welcome to ATLAS 13 TeV Open Data C++ framework!!!\n",
      "Input your option now\n",
      "1 = create all output directories (do it at the very beginning just once)\n",
      "0 = remove all output directories (in case you want to clean and begin from zero)\n",
      "Creating the directory: Analysis/WBosonAnalysis/Output_WBosonAnalysis\n",
      "Creating the directory: Analysis/ZBosonAnalysis/Output_ZBosonAnalysis\n",
      "Creating the directory: Analysis/TTbarAnalysis/Output_TTbarAnalysis\n",
      "Creating the directory: Analysis/SingleTopAnalysis/Output_SingleTopAnalysis\n",
      "Creating the directory: Analysis/WZDiBosonAnalysis/Output_WZDiBosonAnalysis\n",
      "Creating the directory: Analysis/ZZDiBosonAnalysis/Output_ZZDiBosonAnalysis\n",
      "Creating the directory: Analysis/HWWAnalysis/Output_HWWAnalysis\n",
      "Creating the directory: Analysis/HZZAnalysis/Output_HZZAnalysis\n",
      "Creating the directory: Analysis/ZTauTauAnalysis/Output_ZTauTauAnalysis\n",
      "Creating the directory: Analysis/HyyAnalysis/Output_HyyAnalysis\n",
      "Creating the directory: Analysis/SUSYAnalysis/Output_SUSYAnalysis\n",
      "Creating the directory: Analysis/ZPrimeBoostedAnalysis/Output_ZPrimeBoostedAnalysis\n",
      "Creating the directory for the Plotting code: Plotting/histograms\n"
     ]
    }
   ],
   "source": [
    "echo \"1\" | ./welcome.sh"
   ]
  },
  {
   "cell_type": "markdown",
   "metadata": {},
   "source": [
    "Select one analysis"
   ]
  },
  {
   "cell_type": "code",
   "execution_count": 8,
   "metadata": {},
   "outputs": [],
   "source": [
    "#analysis=\"HWWAnalysis\"\n",
    "#analysis=\"HyyAnalysis\"\n",
    "analysis=\"HZZAnalysis\"\n",
    "#analysis=\"SingleTopAnalysis\"\n",
    "#analysis=\"SUSYAnalysis\"\n",
    "#analysis=\"TTbarAnalysis\"\n",
    "#analysis=\"WBosonAnalysis\"\n",
    "#analysis=\"WZDiBosonAnalysis\"\n",
    "#analysis=\"ZBosonAnalysis\"\n",
    "#analysis=\"ZPrimeBoostedAnalysis\"\n",
    "#analysis=\"ZTauTauAnalysis\"\n",
    "#analysis=\"ZZDiBosonAnalysis\""
   ]
  },
  {
   "cell_type": "code",
   "execution_count": 9,
   "metadata": {},
   "outputs": [
    {
     "name": "stdout",
     "output_type": "stream",
     "text": [
      "/home/student/GIT-REPOS/notebooks-frameworks-opendata/13-TeV-examples/demo/atlas-outreach-cpp-framework-13tev/Analysis/HZZAnalysis\n"
     ]
    }
   ],
   "source": [
    "cd Analysis/$analysis\n",
    "pwd"
   ]
  },
  {
   "cell_type": "code",
   "execution_count": null,
   "metadata": {},
   "outputs": [
    {
     "name": "stdout",
     "output_type": "stream",
     "text": [
      "Which option should I run?\n",
      "Options are:\n",
      "0 = run all data and MC one after another\n",
      "1 = run data only\n",
      "2,3 = run MC samples only\n",
      "Option is 0\n",
      "Should I use PROOF? (will make things faster)\n",
      "Options are:\n",
      "0 = NO\n",
      "1 = YES\n",
      "PROOF option is 1\n",
      "starting ROOT\n",
      "Info in <TUnixSystem::ACLiC>: creating shared library /home/student/GIT-REPOS/notebooks-frameworks-opendata/13-TeV-examples/demo/atlas-outreach-cpp-framework-13tev/Analysis/HZZAnalysis/./main_HZZAnalysis_C.so\n",
      " +++ Starting PROOF-Lite with 2 workers +++\n",
      "Opening connections to workers: OK (2 workers)                 \n",
      "Setting up worker servers: OK (2 workers)                 \n",
      "PROOF set to parallel mode (2 workers)\n",
      " \n",
      "Info in <TProofLite::SetQueryRunning>: starting query: 1\n",
      "Info in <TProofQueryResult::SetRunning>: nwrks: 2\n",
      "Info in <TUnixSystem::ACLiC>: creating shared library /home/student/GIT-REPOS/notebooks-frameworks-opendata/13-TeV-examples/demo/atlas-outreach-cpp-framework-13tev/Analysis/HZZAnalysis/./HZZAnalysis_C.so\n",
      "Looking up for exact location of files: OK (4 files)                 \n",
      "Looking up for exact location of files: OK (4 files)                 \n",
      "Info in <TPacketizer::TPacketizer>: Initial number of workers: 2\n",
      "Validating files: OK (4 files)                 \n",
      "[TProof::Progress] Total 832 events\t|====================| 100.00 % [16.8 evts/s, 8.5 kB/s, time left: 0.0 s]\n",
      " Query processing time: 49.5 s\n",
      "Writting with name option: data .. - (1 workers still sending)   \n",
      "Lite-0: all output objects have been merged                                                         \n",
      " \n",
      "Info in <TProofLite::SetQueryRunning>: starting query: 2\n",
      "Info in <TProofQueryResult::SetRunning>: nwrks: 2\n",
      "Info in <ACLiC>: unmodified script has already been compiled and loaded\n",
      "Looking up for exact location of files: OK (1 files)                 \n",
      "Looking up for exact location of files: OK (1 files)                 \n",
      "Info in <TPacketizer::TPacketizer>: Initial number of workers: 2\n",
      "Validating files: OK (1 files)                 \n",
      "[TProof::Progress] Total 254 events\t|====================| 100.00 % [25.8 evts/s, 20.7 kB/s, time left: 0.0 s]\n",
      " Query processing time: 9.9 s\n",
      "Writting with name option: ZqqZll  - (1 workers still sending)   \n",
      "Lite-0: all output objects have been merged                                                         \n",
      " \n",
      "Info in <TProofLite::SetQueryRunning>: starting query: 3\n",
      "Info in <TProofQueryResult::SetRunning>: nwrks: 2\n",
      "Info in <ACLiC>: unmodified script has already been compiled and loaded\n",
      "Looking up for exact location of files: OK (1 files)                 \n",
      "Looking up for exact location of files: OK (1 files)                 \n",
      "Info in <TPacketizer::TPacketizer>: Initial number of workers: 2\n",
      "Validating files: OK (1 files)                 \n",
      "[TProof::Progress] Total 1316619 events\t|====================| 100.00 % [15097.1 evts/s, 7.6 MB/s, time left: 0.0 s]]\n",
      " Query processing time: 87.2 s\n",
      "Writting with name option: WqqZll  - (1 workers still sending)   \n",
      "Lite-0: all output objects have been merged                                                         \n",
      " \n",
      "Info in <TProofLite::SetQueryRunning>: starting query: 4\n",
      "Info in <TProofQueryResult::SetRunning>: nwrks: 2\n",
      "Info in <ACLiC>: unmodified script has already been compiled and loaded\n",
      "Looking up for exact location of files: OK (1 files)                 \n",
      "Looking up for exact location of files: OK (1 files)                 \n",
      "Info in <TPacketizer::TPacketizer>: Initial number of workers: 2\n",
      "Validating files: OK (1 files)                 \n",
      "[TProof::Progress] Total 13375 events\t|====================| 100.00 % [30.6 evts/s, 15.3 kB/s, time left: 0.0 s]]\n",
      " Query processing time: 436.6 s\n",
      "Writting with name option: WpqqWmlv  (1 workers still sending)   \n",
      "Lite-0: all output objects have been merged                                                         \n",
      " \n",
      "Info in <TProofLite::SetQueryRunning>: starting query: 5\n",
      "Info in <TProofQueryResult::SetRunning>: nwrks: 2\n",
      "Info in <ACLiC>: unmodified script has already been compiled and loaded\n",
      "Looking up for exact location of files: OK (1 files)                 \n",
      "Looking up for exact location of files: OK (1 files)                 \n",
      "Info in <TPacketizer::TPacketizer>: Initial number of workers: 2\n",
      "Validating files: OK (1 files)                 \n",
      "[TProof::Progress] Total 14245 events\t|====================| 100.00 % [24.4 evts/s, 11.7 kB/s, time left: 0.0 s]]]]\n",
      " Query processing time: 584.3 s\n",
      "Writting with name option: WplvWmqq  (1 workers still sending)   \n",
      "Lite-0: all output objects have been merged                                                         \n",
      " \n",
      "Info in <TProofLite::SetQueryRunning>: starting query: 6\n",
      "Info in <TProofQueryResult::SetRunning>: nwrks: 2\n",
      "Info in <ACLiC>: unmodified script has already been compiled and loaded\n",
      "Looking up for exact location of files: OK (1 files)                 \n",
      "Looking up for exact location of files: OK (1 files)                 \n",
      "Info in <TPacketizer::TPacketizer>: Initial number of workers: 2\n",
      "Validating files: OK (1 files)                 \n",
      "[TProof::Progress] Total 28199 events\t|====================| 100.00 % [371.5 evts/s, 132.2 kB/s, time left: 0.0 s]\n",
      " Query processing time: 75.9 s\n",
      "Writting with name option: WlvZqq  - (1 workers still sending)   \n",
      "Lite-0: all output objects have been merged                                                         \n",
      " \n",
      "Info in <TProofLite::SetQueryRunning>: starting query: 7\n",
      "Info in <TProofQueryResult::SetRunning>: nwrks: 2\n",
      "Info in <ACLiC>: unmodified script has already been compiled and loaded\n",
      "Looking up for exact location of files: OK (1 files)                 \n",
      "Looking up for exact location of files: OK (1 files)                 \n",
      "Info in <TPacketizer::TPacketizer>: Initial number of workers: 2\n",
      "Validating files: OK (1 files)                 \n",
      "[TProof::Progress] Total 554279 events\t|====================| 100.00 % [6043.3 evts/s, 3.7 MB/s, time left: 0.0 s]]\n",
      " Query processing time: 91.7 s\n",
      "Writting with name option: llll .. - (1 workers still sending)   \n",
      "Lite-0: all output objects have been merged                                                         \n",
      " \n",
      "Info in <TProofLite::SetQueryRunning>: starting query: 8\n",
      "Info in <TProofQueryResult::SetRunning>: nwrks: 2\n",
      "Info in <ACLiC>: unmodified script has already been compiled and loaded\n",
      "Looking up for exact location of files: OK (1 files)                 \n",
      "Looking up for exact location of files: OK (1 files)                 \n",
      "Info in <TPacketizer::TPacketizer>: Initial number of workers: 2\n",
      "Validating files: OK (1 files)                 \n",
      "[TProof::Progress] Total 9340 events\t|====================| 100.00 % [68.2 evts/s, 47.2 kB/s, time left: 0.0 s]]]\n",
      " Query processing time: 137.0 s\n",
      "Writting with name option: lllv .. - (1 workers still sending)   \n",
      "Lite-0: all output objects have been merged                                                         \n",
      " \n",
      "Info in <TProofLite::SetQueryRunning>: starting query: 9\n",
      "Info in <TProofQueryResult::SetRunning>: nwrks: 2\n",
      "Info in <ACLiC>: unmodified script has already been compiled and loaded\n",
      "Looking up for exact location of files: OK (1 files)                 \n",
      "Looking up for exact location of files: OK (1 files)                 \n",
      "Info in <TPacketizer::TPacketizer>: Initial number of workers: 2\n",
      "Validating files: OK (1 files)                 \n",
      "[TProof::Progress] Total 137 events\t|====================| 100.00 % [23.6 evts/s, 22.3 kB/s, time left: 0.0 s]\n",
      " Query processing time: 5.8 s\n",
      "Writting with name option: llvv .. - (1 workers still sending)   \n",
      "Lite-0: all output objects have been merged                                                         \n",
      " \n",
      "Info in <TProofLite::SetQueryRunning>: starting query: 10\n",
      "Info in <TProofQueryResult::SetRunning>: nwrks: 2\n",
      "Info in <ACLiC>: unmodified script has already been compiled and loaded\n",
      "Looking up for exact location of files: OK (1 files)                 \n",
      "Looking up for exact location of files: OK (1 files)                 \n",
      "Info in <TPacketizer::TPacketizer>: Initial number of workers: 2\n",
      "Validating files: OK (1 files)                 \n",
      "[TProof::Progress] Total 11789 events\t|====================| 100.00 % [41.7 evts/s, 22.5 kB/s, time left: 0.0 s]]]]\n",
      " Query processing time: 282.6 s\n",
      "Writting with name option: lvvv .. - (1 workers still sending)   \n",
      "Lite-0: all output objects have been merged                                                         \n"
     ]
    },
    {
     "name": "stdout",
     "output_type": "stream",
     "text": [
      " \n",
      "Info in <TProofLite::SetQueryRunning>: starting query: 11\n",
      "Info in <TProofQueryResult::SetRunning>: nwrks: 2\n",
      "Info in <ACLiC>: unmodified script has already been compiled and loaded\n",
      "Looking up for exact location of files: OK (1 files)                 \n",
      "Looking up for exact location of files: OK (1 files)                 \n",
      "Info in <TPacketizer::TPacketizer>: Initial number of workers: 2\n",
      "Validating files: OK (1 files)                 \n",
      "[TProof::Progress] Total 898 events\t|====================| 100.00 % [159.2 evts/s, 101.0 kB/s, time left: 0.0 s]\n",
      " Query processing time: 5.6 s\n",
      "Writting with name option: Zee ... - (1 workers still sending)   \n",
      "Lite-0: all output objects have been merged                                                         \n",
      " \n",
      "Info in <TProofLite::SetQueryRunning>: starting query: 12\n",
      "Info in <TProofQueryResult::SetRunning>: nwrks: 2\n",
      "Info in <ACLiC>: unmodified script has already been compiled and loaded\n",
      "Looking up for exact location of files: OK (1 files)                 \n",
      "Looking up for exact location of files: OK (1 files)                 \n",
      "Info in <TPacketizer::TPacketizer>: Initial number of workers: 2\n",
      "Validating files: OK (1 files)                 \n",
      "[TProof::Progress] Total 684 events\t|====================| 100.00 % [134.8 evts/s, 87.7 kB/s, time left: 0.0 s]\n",
      " Query processing time: 5.1 s\n",
      "Writting with name option: Zmumu . - (1 workers still sending)   \n",
      "Lite-0: all output objects have been merged                                                         \n",
      " \n",
      "Info in <TProofLite::SetQueryRunning>: starting query: 13\n",
      "Info in <TProofQueryResult::SetRunning>: nwrks: 2\n",
      "Info in <ACLiC>: unmodified script has already been compiled and loaded\n",
      "Looking up for exact location of files: OK (1 files)                 \n",
      "Looking up for exact location of files: OK (1 files)                 \n",
      "Info in <TPacketizer::TPacketizer>: Initial number of workers: 2\n",
      "Validating files: OK (1 files)                 \n",
      "[TProof::Progress] Total 9 events\t|====================| 100.00 % [2.1 evts/s, 7.8 kB/s, time left: 0.0 s]\n",
      " Query processing time: 4.2 s\n",
      "Writting with name option: Ztautau - (1 workers still sending)   \n",
      "Lite-0: all output objects have been merged                                                         \n",
      " \n",
      "Info in <TProofLite::SetQueryRunning>: starting query: 14\n",
      "Info in <TProofQueryResult::SetRunning>: nwrks: 2\n",
      "Info in <ACLiC>: unmodified script has already been compiled and loaded\n",
      "Looking up for exact location of files: OK (1 files)                 \n",
      "Looking up for exact location of files: OK (1 files)                 \n",
      "Info in <TPacketizer::TPacketizer>: Initial number of workers: 2\n",
      "Validating files: OK (1 files)                 \n",
      "[TProof::Progress] Total 2 events\t|====================| 100.00 % [0.5 evts/s, 6.4 kB/s, time left: 0.0 s]\n",
      " Query processing time: 4.3 s\n",
      "Writting with name option: single_top_tchan ers still sending)   \n",
      "Lite-0: all output objects have been merged                                                         \n",
      " \n",
      "Info in <TProofLite::SetQueryRunning>: starting query: 15\n",
      "Info in <TProofQueryResult::SetRunning>: nwrks: 2\n",
      "Info in <ACLiC>: unmodified script has already been compiled and loaded\n",
      "Looking up for exact location of files: OK (1 files)                 \n",
      "Looking up for exact location of files: OK (1 files)                 \n",
      "Info in <TPacketizer::TPacketizer>: Initial number of workers: 2\n",
      "Validating files: OK (1 files)                 \n",
      "[TProof::Progress] Total 2 events\t|====================| 100.00 % [0.2 evts/s, 3.2 kB/s, time left: 0.0 s]\n",
      " Query processing time: 8.9 s\n",
      "Writting with name option: single_antitop_tchan still sending)   \n",
      "Lite-0: all output objects have been merged                                                         \n",
      " \n",
      "Info in <TProofLite::SetQueryRunning>: starting query: 16\n",
      "Info in <TProofQueryResult::SetRunning>: nwrks: 2\n",
      "Info in <ACLiC>: unmodified script has already been compiled and loaded\n",
      "Looking up for exact location of files: OK (1 files)                 \n",
      "Looking up for exact location of files: OK (1 files)                 \n",
      "Info in <TPacketizer::TPacketizer>: Initial number of workers: 2\n",
      "Validating files: OK (1 files)                 \n",
      "[TProof::Progress] Total 2 events\t|====================| 100.00 % [0.3 evts/s, 4.2 kB/s, time left: 0.0 s]\n",
      " Query processing time: 6.6 s\n",
      "Writting with name option: single_top_schan ers still sending)   \n",
      "Lite-0: all output objects have been merged                                                         \n",
      " \n",
      "Info in <TProofLite::SetQueryRunning>: starting query: 17\n",
      "Info in <TProofQueryResult::SetRunning>: nwrks: 2\n",
      "Info in <ACLiC>: unmodified script has already been compiled and loaded\n",
      "Looking up for exact location of files: OK (1 files)                 \n",
      "Looking up for exact location of files: OK (1 files)                 \n",
      "Info in <TPacketizer::TPacketizer>: Initial number of workers: 2\n",
      "Validating files: OK (1 files)                 \n",
      "[TProof::Progress] Total 2 events\t|====================| 100.00 % [0.2 evts/s, 3.1 kB/s, time left: 0.0 s]\n",
      " Query processing time: 8.9 s\n",
      "Writting with name option: single_antitop_schan still sending)   \n",
      "Lite-0: all output objects have been merged                                                         \n",
      " \n",
      "Info in <TProofLite::SetQueryRunning>: starting query: 18\n",
      "Info in <TProofQueryResult::SetRunning>: nwrks: 2\n",
      "Info in <ACLiC>: unmodified script has already been compiled and loaded\n",
      "Looking up for exact location of files: OK (1 files)                 \n",
      "Looking up for exact location of files: OK (1 files)                 \n",
      "Info in <TPacketizer::TPacketizer>: Initial number of workers: 2\n",
      "Validating files: OK (1 files)                 \n",
      "[TProof::Progress] Total 56 events\t|====================| 100.00 % [6.0 evts/s, 7.4 kB/s, time left: 0.0 s]\n",
      " Query processing time: 9.3 s\n",
      "Writting with name option: single_top_wtchan rs still sending)   \n",
      "Lite-0: all output objects have been merged                                                         \n",
      " \n",
      "Info in <TProofLite::SetQueryRunning>: starting query: 19\n",
      "Info in <TProofQueryResult::SetRunning>: nwrks: 2\n",
      "Info in <ACLiC>: unmodified script has already been compiled and loaded\n",
      "Looking up for exact location of files: OK (1 files)                 \n",
      "Looking up for exact location of files: OK (1 files)                 \n",
      "Info in <TPacketizer::TPacketizer>: Initial number of workers: 2\n",
      "Validating files: OK (1 files)                 \n",
      "[TProof::Progress] Total 48 events\t|====================| 100.00 % [8.0 evts/s, 10.4 kB/s, time left: 0.0 s]\n",
      " Query processing time: 6.0 s\n",
      "Writting with name option: single_antitop_wtchan till sending)   \n",
      "Lite-0: all output objects have been merged                                                         \n",
      " \n",
      "Info in <TProofLite::SetQueryRunning>: starting query: 20\n",
      "Info in <TProofQueryResult::SetRunning>: nwrks: 2\n",
      "Info in <ACLiC>: unmodified script has already been compiled and loaded\n",
      "Looking up for exact location of files: OK (1 files)                 \n",
      "Looking up for exact location of files: OK (1 files)                 \n",
      "Info in <TPacketizer::TPacketizer>: Initial number of workers: 2\n",
      "Validating files: OK (1 files)                 \n",
      "[TProof::Progress] Total 1031 events\t|====================| 100.00 % [515.0 evts/s, 378.7 kB/s, time left: 0.0 s]\n",
      " Query processing time: 2.0 s\n",
      "Writting with name option: ttbar_lep (1 workers still sending)   \n",
      "Lite-0: all output objects have been merged                                                         \n",
      " \n",
      "Info in <TProofLite::SetQueryRunning>: starting query: 21\n",
      "Info in <TProofQueryResult::SetRunning>: nwrks: 2\n",
      "Info in <ACLiC>: unmodified script has already been compiled and loaded\n",
      "Looking up for exact location of files: OK (1 files)                 \n",
      "Looking up for exact location of files: OK (1 files)                 \n",
      "Info in <TPacketizer::TPacketizer>: Initial number of workers: 2\n",
      "Validating files: OK (1 files)                 \n",
      "[TProof::Progress] Total 41502 events\t|====================| 100.00 % [1797.5 evts/s, 576.2 kB/s, time left: 0.0 s]\n",
      " Query processing time: 23.1 s\n",
      "Writting with name option: Wplusenu  (1 workers still sending)   \n",
      "Lite-0: all output objects have been merged                                                         \n",
      " \n",
      "Info in <TProofLite::SetQueryRunning>: starting query: 22\n"
     ]
    },
    {
     "name": "stdout",
     "output_type": "stream",
     "text": [
      "Info in <TProofQueryResult::SetRunning>: nwrks: 2\n",
      "Info in <ACLiC>: unmodified script has already been compiled and loaded\n",
      "Looking up for exact location of files: OK (1 files)                 \n",
      "Looking up for exact location of files: OK (1 files)                 \n",
      "Info in <TPacketizer::TPacketizer>: Initial number of workers: 2\n",
      "Validating files: OK (1 files)                 \n",
      "[TProof::Progress] Total 35184 events\t|====================| 100.00 % [1628.7 evts/s, 529.4 kB/s, time left: 0.0 s]\n",
      " Query processing time: 21.6 s\n",
      "Writting with name option: Wplusmunu (1 workers still sending)   \n",
      "Lite-0: all output objects have been merged                                                         \n",
      " \n",
      "Info in <TProofLite::SetQueryRunning>: starting query: 23\n",
      "Info in <TProofQueryResult::SetRunning>: nwrks: 2\n",
      "Info in <ACLiC>: unmodified script has already been compiled and loaded\n",
      "Looking up for exact location of files: OK (1 files)                 \n",
      "Looking up for exact location of files: OK (1 files)                 \n",
      "Info in <TPacketizer::TPacketizer>: Initial number of workers: 2\n",
      "Validating files: OK (1 files)                 \n",
      "[TProof::Progress] Total 1774 events\t|====================| 100.00 % [798.7 evts/s, 394.8 kB/s, time left: 0.0 s]\n",
      " Query processing time: 2.2 s\n",
      "Writting with name option: Wplustaunu 1 workers still sending)   \n",
      "Lite-0: all output objects have been merged                                                         \n",
      " \n",
      "Info in <TProofLite::SetQueryRunning>: starting query: 24\n",
      "Info in <TProofQueryResult::SetRunning>: nwrks: 2\n",
      "Info in <ACLiC>: unmodified script has already been compiled and loaded\n",
      "Looking up for exact location of files: OK (1 files)                 \n",
      "Looking up for exact location of files: OK (1 files)                 \n",
      "Info in <TPacketizer::TPacketizer>: Initial number of workers: 2\n",
      "Validating files: OK (1 files)                 \n",
      "[TProof::Progress] Total 31893 events\t|====================| 100.00 % [650.7 evts/s, 183.9 kB/s, time left: 0.0 s]\n",
      " Query processing time: 49.0 s\n",
      "Writting with name option: Wminusenu (1 workers still sending)   \n",
      "Lite-0: all output objects have been merged                                                         \n",
      " \n",
      "Info in <TProofLite::SetQueryRunning>: starting query: 25\n",
      "Info in <TProofQueryResult::SetRunning>: nwrks: 2\n",
      "Info in <ACLiC>: unmodified script has already been compiled and loaded\n",
      "Looking up for exact location of files: OK (1 files)                 \n",
      "Looking up for exact location of files: OK (1 files)                 \n",
      "Info in <TPacketizer::TPacketizer>: Initial number of workers: 2\n",
      "Validating files: OK (1 files)                 \n",
      "[TProof::Progress] Total 30307 events\t|====================| 100.00 % [889.8 evts/s, 253.0 kB/s, time left: 0.0 s]\n",
      " Query processing time: 34.1 s\n",
      "Writting with name option: Wminusmunu 1 workers still sending)   \n",
      "Lite-0: all output objects have been merged                                                         \n",
      " \n",
      "Info in <TProofLite::SetQueryRunning>: starting query: 26\n",
      "Info in <TProofQueryResult::SetRunning>: nwrks: 2\n",
      "Info in <ACLiC>: unmodified script has already been compiled and loaded\n",
      "Looking up for exact location of files: OK (1 files)                 \n",
      "Looking up for exact location of files: OK (1 files)                 \n",
      "Info in <TPacketizer::TPacketizer>: Initial number of workers: 2\n",
      "Validating files: OK (1 files)                 \n",
      "[TProof::Progress] Total 1409 events\t|====================| 100.00 % [279.5 evts/s, 139.1 kB/s, time left: 0.0 s]\n",
      " Query processing time: 5.0 s\n",
      "Writting with name option: Wminustaunu  workers still sending)   \n",
      "Lite-0: all output objects have been merged                                                         \n",
      " \n",
      "Info in <TProofLite::SetQueryRunning>: starting query: 27\n",
      "Info in <TProofQueryResult::SetRunning>: nwrks: 2\n",
      "Info in <ACLiC>: unmodified script has already been compiled and loaded\n",
      "Looking up for exact location of files: OK (1 files)                 \n",
      "Looking up for exact location of files: OK (1 files)                 \n",
      "Info in <TPacketizer::TPacketizer>: Initial number of workers: 2\n",
      "Validating files: OK (1 files)                 \n",
      "[TProof::Progress] Total 164716 events\t|====================| 100.00 % [5653.2 evts/s, 3.3 MB/s, time left: 0.0 s]\n",
      " Query processing time: 29.1 s\n",
      "Writting with name option: ggH125_ZZ4lep orkers still sending)   \n",
      "Lite-0: all output objects have been merged                                                         \n",
      " \n",
      "Info in <TProofLite::SetQueryRunning>: starting query: 28\n",
      "Info in <TProofQueryResult::SetRunning>: nwrks: 2\n",
      "Info in <ACLiC>: unmodified script has already been compiled and loaded\n",
      "Looking up for exact location of files: OK (1 files)                 \n",
      "Looking up for exact location of files: OK (1 files)                 \n",
      "Info in <TPacketizer::TPacketizer>: Initial number of workers: 2\n",
      "Validating files: OK (1 files)                 \n"
     ]
    }
   ],
   "source": [
    "time echo $'0\\n1' | ./run.sh"
   ]
  },
  {
   "cell_type": "code",
   "execution_count": null,
   "metadata": {},
   "outputs": [],
   "source": [
    " cd ../../Plotting/\n",
    " pwd\n"
   ]
  },
  {
   "cell_type": "code",
   "execution_count": null,
   "metadata": {},
   "outputs": [],
   "source": [
    "echo $'7\\n0' | ./plotme.sh"
   ]
  },
  {
   "cell_type": "markdown",
   "metadata": {},
   "source": [
    "![mass_four_lep](https://raw.githubusercontent.com/artfisica/ICTP-2019/master/histograms/mass_four_lep.png)"
   ]
  },
  {
   "cell_type": "code",
   "execution_count": null,
   "metadata": {},
   "outputs": [],
   "source": [
    "pwd"
   ]
  },
  {
   "cell_type": "code",
   "execution_count": null,
   "metadata": {},
   "outputs": [],
   "source": [
    "ls -lhrt histograms/*png"
   ]
  },
  {
   "cell_type": "markdown",
   "metadata": {},
   "source": [
    "<img src=\"https://raw.githubusercontent.com/artfisica/ICTP-2019/master/histograms/hist_mLL1.png\" alt=\"mass\" width=\"500\" height=\"400\">"
   ]
  },
  {
   "cell_type": "code",
   "execution_count": null,
   "metadata": {},
   "outputs": [],
   "source": [
    "date"
   ]
  },
  {
   "cell_type": "markdown",
   "metadata": {
    "collapsed": true
   },
   "source": [
    "**Done!**"
   ]
  }
 ],
 "metadata": {
  "kernelspec": {
   "display_name": "Bash",
   "language": "bash",
   "name": "bash"
  },
  "language_info": {
   "codemirror_mode": "shell",
   "file_extension": ".sh",
   "mimetype": "text/x-sh",
   "name": "bash"
  }
 },
 "nbformat": 4,
 "nbformat_minor": 1
}
